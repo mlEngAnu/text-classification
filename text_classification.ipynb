{
  "nbformat": 4,
  "nbformat_minor": 0,
  "metadata": {
    "colab": {
      "provenance": [],
      "authorship_tag": "ABX9TyNgzEUbPEvoqjiq77W6CwAT",
      "include_colab_link": true
    },
    "kernelspec": {
      "name": "python3",
      "display_name": "Python 3"
    },
    "language_info": {
      "name": "python"
    }
  },
  "cells": [
    {
      "cell_type": "markdown",
      "metadata": {
        "id": "view-in-github",
        "colab_type": "text"
      },
      "source": [
        "<a href=\"https://colab.research.google.com/github/mlEngAnu/text-classification/blob/main/text_classification.ipynb\" target=\"_parent\"><img src=\"https://colab.research.google.com/assets/colab-badge.svg\" alt=\"Open In Colab\"/></a>"
      ]
    },
    {
      "cell_type": "code",
      "execution_count": 14,
      "metadata": {
        "id": "e0MVACH8ag1o"
      },
      "outputs": [],
      "source": [
        "import logging\n",
        "import pandas as pd\n",
        "import numpy as np\n",
        "from numpy import random\n",
        "import gensim\n",
        "import nltk\n",
        "from sklearn.model_selection import train_test_split\n",
        "from sklearn.feature_extraction.text import CountVectorizer, TfidfVectorizer\n",
        "from sklearn.metrics import accuracy_score, confusion_matrix\n",
        "import matplotlib.pyplot as plt\n",
        "from nltk.corpus import stopwords\n",
        "import re\n",
        "from bs4 import BeautifulSoup\n",
        "\n",
        "%matplotlib inline"
      ]
    },
    {
      "cell_type": "code",
      "source": [
        "# loading data file from local folder\n",
        "from google.colab import files\n",
        "uploaded = files.upload()"
      ],
      "metadata": {
        "colab": {
          "base_uri": "https://localhost:8080/",
          "height": 108
        },
        "id": "OYIeGkFTdUSj",
        "outputId": "614077ee-84af-4b11-ddf6-a6087980aab4"
      },
      "execution_count": 4,
      "outputs": [
        {
          "output_type": "display_data",
          "data": {
            "text/plain": [
              "<IPython.core.display.HTML object>"
            ],
            "text/html": [
              "\n",
              "     <input type=\"file\" id=\"files-32a37ca7-4cc9-4954-815b-de6f42df46d4\" name=\"files[]\" multiple disabled\n",
              "        style=\"border:none\" />\n",
              "     <output id=\"result-32a37ca7-4cc9-4954-815b-de6f42df46d4\">\n",
              "      Upload widget is only available when the cell has been executed in the\n",
              "      current browser session. Please rerun this cell to enable.\n",
              "      </output>\n",
              "      <script>// Copyright 2017 Google LLC\n",
              "//\n",
              "// Licensed under the Apache License, Version 2.0 (the \"License\");\n",
              "// you may not use this file except in compliance with the License.\n",
              "// You may obtain a copy of the License at\n",
              "//\n",
              "//      http://www.apache.org/licenses/LICENSE-2.0\n",
              "//\n",
              "// Unless required by applicable law or agreed to in writing, software\n",
              "// distributed under the License is distributed on an \"AS IS\" BASIS,\n",
              "// WITHOUT WARRANTIES OR CONDITIONS OF ANY KIND, either express or implied.\n",
              "// See the License for the specific language governing permissions and\n",
              "// limitations under the License.\n",
              "\n",
              "/**\n",
              " * @fileoverview Helpers for google.colab Python module.\n",
              " */\n",
              "(function(scope) {\n",
              "function span(text, styleAttributes = {}) {\n",
              "  const element = document.createElement('span');\n",
              "  element.textContent = text;\n",
              "  for (const key of Object.keys(styleAttributes)) {\n",
              "    element.style[key] = styleAttributes[key];\n",
              "  }\n",
              "  return element;\n",
              "}\n",
              "\n",
              "// Max number of bytes which will be uploaded at a time.\n",
              "const MAX_PAYLOAD_SIZE = 100 * 1024;\n",
              "\n",
              "function _uploadFiles(inputId, outputId) {\n",
              "  const steps = uploadFilesStep(inputId, outputId);\n",
              "  const outputElement = document.getElementById(outputId);\n",
              "  // Cache steps on the outputElement to make it available for the next call\n",
              "  // to uploadFilesContinue from Python.\n",
              "  outputElement.steps = steps;\n",
              "\n",
              "  return _uploadFilesContinue(outputId);\n",
              "}\n",
              "\n",
              "// This is roughly an async generator (not supported in the browser yet),\n",
              "// where there are multiple asynchronous steps and the Python side is going\n",
              "// to poll for completion of each step.\n",
              "// This uses a Promise to block the python side on completion of each step,\n",
              "// then passes the result of the previous step as the input to the next step.\n",
              "function _uploadFilesContinue(outputId) {\n",
              "  const outputElement = document.getElementById(outputId);\n",
              "  const steps = outputElement.steps;\n",
              "\n",
              "  const next = steps.next(outputElement.lastPromiseValue);\n",
              "  return Promise.resolve(next.value.promise).then((value) => {\n",
              "    // Cache the last promise value to make it available to the next\n",
              "    // step of the generator.\n",
              "    outputElement.lastPromiseValue = value;\n",
              "    return next.value.response;\n",
              "  });\n",
              "}\n",
              "\n",
              "/**\n",
              " * Generator function which is called between each async step of the upload\n",
              " * process.\n",
              " * @param {string} inputId Element ID of the input file picker element.\n",
              " * @param {string} outputId Element ID of the output display.\n",
              " * @return {!Iterable<!Object>} Iterable of next steps.\n",
              " */\n",
              "function* uploadFilesStep(inputId, outputId) {\n",
              "  const inputElement = document.getElementById(inputId);\n",
              "  inputElement.disabled = false;\n",
              "\n",
              "  const outputElement = document.getElementById(outputId);\n",
              "  outputElement.innerHTML = '';\n",
              "\n",
              "  const pickedPromise = new Promise((resolve) => {\n",
              "    inputElement.addEventListener('change', (e) => {\n",
              "      resolve(e.target.files);\n",
              "    });\n",
              "  });\n",
              "\n",
              "  const cancel = document.createElement('button');\n",
              "  inputElement.parentElement.appendChild(cancel);\n",
              "  cancel.textContent = 'Cancel upload';\n",
              "  const cancelPromise = new Promise((resolve) => {\n",
              "    cancel.onclick = () => {\n",
              "      resolve(null);\n",
              "    };\n",
              "  });\n",
              "\n",
              "  // Wait for the user to pick the files.\n",
              "  const files = yield {\n",
              "    promise: Promise.race([pickedPromise, cancelPromise]),\n",
              "    response: {\n",
              "      action: 'starting',\n",
              "    }\n",
              "  };\n",
              "\n",
              "  cancel.remove();\n",
              "\n",
              "  // Disable the input element since further picks are not allowed.\n",
              "  inputElement.disabled = true;\n",
              "\n",
              "  if (!files) {\n",
              "    return {\n",
              "      response: {\n",
              "        action: 'complete',\n",
              "      }\n",
              "    };\n",
              "  }\n",
              "\n",
              "  for (const file of files) {\n",
              "    const li = document.createElement('li');\n",
              "    li.append(span(file.name, {fontWeight: 'bold'}));\n",
              "    li.append(span(\n",
              "        `(${file.type || 'n/a'}) - ${file.size} bytes, ` +\n",
              "        `last modified: ${\n",
              "            file.lastModifiedDate ? file.lastModifiedDate.toLocaleDateString() :\n",
              "                                    'n/a'} - `));\n",
              "    const percent = span('0% done');\n",
              "    li.appendChild(percent);\n",
              "\n",
              "    outputElement.appendChild(li);\n",
              "\n",
              "    const fileDataPromise = new Promise((resolve) => {\n",
              "      const reader = new FileReader();\n",
              "      reader.onload = (e) => {\n",
              "        resolve(e.target.result);\n",
              "      };\n",
              "      reader.readAsArrayBuffer(file);\n",
              "    });\n",
              "    // Wait for the data to be ready.\n",
              "    let fileData = yield {\n",
              "      promise: fileDataPromise,\n",
              "      response: {\n",
              "        action: 'continue',\n",
              "      }\n",
              "    };\n",
              "\n",
              "    // Use a chunked sending to avoid message size limits. See b/62115660.\n",
              "    let position = 0;\n",
              "    do {\n",
              "      const length = Math.min(fileData.byteLength - position, MAX_PAYLOAD_SIZE);\n",
              "      const chunk = new Uint8Array(fileData, position, length);\n",
              "      position += length;\n",
              "\n",
              "      const base64 = btoa(String.fromCharCode.apply(null, chunk));\n",
              "      yield {\n",
              "        response: {\n",
              "          action: 'append',\n",
              "          file: file.name,\n",
              "          data: base64,\n",
              "        },\n",
              "      };\n",
              "\n",
              "      let percentDone = fileData.byteLength === 0 ?\n",
              "          100 :\n",
              "          Math.round((position / fileData.byteLength) * 100);\n",
              "      percent.textContent = `${percentDone}% done`;\n",
              "\n",
              "    } while (position < fileData.byteLength);\n",
              "  }\n",
              "\n",
              "  // All done.\n",
              "  yield {\n",
              "    response: {\n",
              "      action: 'complete',\n",
              "    }\n",
              "  };\n",
              "}\n",
              "\n",
              "scope.google = scope.google || {};\n",
              "scope.google.colab = scope.google.colab || {};\n",
              "scope.google.colab._files = {\n",
              "  _uploadFiles,\n",
              "  _uploadFilesContinue,\n",
              "};\n",
              "})(self);\n",
              "</script> "
            ]
          },
          "metadata": {}
        },
        {
          "output_type": "stream",
          "name": "stdout",
          "text": [
            "Saving test.csv to test.csv\n",
            "Saving train.csv to train (1).csv\n"
          ]
        }
      ]
    },
    {
      "cell_type": "code",
      "source": [
        "# Importing Data from file\n",
        "df = pd.read_csv('train (1).csv')\n",
        "df_test = pd.read_csv('test.csv')"
      ],
      "metadata": {
        "id": "h1gQOLlFdXJ4"
      },
      "execution_count": 59,
      "outputs": []
    },
    {
      "cell_type": "code",
      "source": [
        "df = pd.concat([df, df_test])"
      ],
      "metadata": {
        "id": "OH_Ybx_0kHFx"
      },
      "execution_count": 61,
      "outputs": []
    },
    {
      "cell_type": "code",
      "source": [
        "df"
      ],
      "metadata": {
        "colab": {
          "base_uri": "https://localhost:8080/",
          "height": 423
        },
        "id": "VDGpiKf5en04",
        "outputId": "812f8013-0f84-4a17-f797-ea654220458a"
      },
      "execution_count": 62,
      "outputs": [
        {
          "output_type": "execute_result",
          "data": {
            "text/plain": [
              "                                                   text         category\n",
              "0                        I am still waiting on my card?     card_arrival\n",
              "1     What can I do if my card still hasn't arrived ...     card_arrival\n",
              "2     I have been waiting over a week. Is the card s...     card_arrival\n",
              "3     Can I track my card while it is in the process...     card_arrival\n",
              "4     How do I know if I will get my card, or if it ...     card_arrival\n",
              "...                                                 ...              ...\n",
              "3075      If i'm not in the UK, can I still get a card?  country_support\n",
              "3076                 How many countries do you support?  country_support\n",
              "3077              What countries do you do business in?  country_support\n",
              "3078             What are the countries you operate in.  country_support\n",
              "3079         Can the card be mailed and used in Europe?  country_support\n",
              "\n",
              "[13083 rows x 2 columns]"
            ],
            "text/html": [
              "\n",
              "  <div id=\"df-caf16ca3-1d82-4d41-bd13-e60a53d8e18d\">\n",
              "    <div class=\"colab-df-container\">\n",
              "      <div>\n",
              "<style scoped>\n",
              "    .dataframe tbody tr th:only-of-type {\n",
              "        vertical-align: middle;\n",
              "    }\n",
              "\n",
              "    .dataframe tbody tr th {\n",
              "        vertical-align: top;\n",
              "    }\n",
              "\n",
              "    .dataframe thead th {\n",
              "        text-align: right;\n",
              "    }\n",
              "</style>\n",
              "<table border=\"1\" class=\"dataframe\">\n",
              "  <thead>\n",
              "    <tr style=\"text-align: right;\">\n",
              "      <th></th>\n",
              "      <th>text</th>\n",
              "      <th>category</th>\n",
              "    </tr>\n",
              "  </thead>\n",
              "  <tbody>\n",
              "    <tr>\n",
              "      <th>0</th>\n",
              "      <td>I am still waiting on my card?</td>\n",
              "      <td>card_arrival</td>\n",
              "    </tr>\n",
              "    <tr>\n",
              "      <th>1</th>\n",
              "      <td>What can I do if my card still hasn't arrived ...</td>\n",
              "      <td>card_arrival</td>\n",
              "    </tr>\n",
              "    <tr>\n",
              "      <th>2</th>\n",
              "      <td>I have been waiting over a week. Is the card s...</td>\n",
              "      <td>card_arrival</td>\n",
              "    </tr>\n",
              "    <tr>\n",
              "      <th>3</th>\n",
              "      <td>Can I track my card while it is in the process...</td>\n",
              "      <td>card_arrival</td>\n",
              "    </tr>\n",
              "    <tr>\n",
              "      <th>4</th>\n",
              "      <td>How do I know if I will get my card, or if it ...</td>\n",
              "      <td>card_arrival</td>\n",
              "    </tr>\n",
              "    <tr>\n",
              "      <th>...</th>\n",
              "      <td>...</td>\n",
              "      <td>...</td>\n",
              "    </tr>\n",
              "    <tr>\n",
              "      <th>3075</th>\n",
              "      <td>If i'm not in the UK, can I still get a card?</td>\n",
              "      <td>country_support</td>\n",
              "    </tr>\n",
              "    <tr>\n",
              "      <th>3076</th>\n",
              "      <td>How many countries do you support?</td>\n",
              "      <td>country_support</td>\n",
              "    </tr>\n",
              "    <tr>\n",
              "      <th>3077</th>\n",
              "      <td>What countries do you do business in?</td>\n",
              "      <td>country_support</td>\n",
              "    </tr>\n",
              "    <tr>\n",
              "      <th>3078</th>\n",
              "      <td>What are the countries you operate in.</td>\n",
              "      <td>country_support</td>\n",
              "    </tr>\n",
              "    <tr>\n",
              "      <th>3079</th>\n",
              "      <td>Can the card be mailed and used in Europe?</td>\n",
              "      <td>country_support</td>\n",
              "    </tr>\n",
              "  </tbody>\n",
              "</table>\n",
              "<p>13083 rows × 2 columns</p>\n",
              "</div>\n",
              "      <button class=\"colab-df-convert\" onclick=\"convertToInteractive('df-caf16ca3-1d82-4d41-bd13-e60a53d8e18d')\"\n",
              "              title=\"Convert this dataframe to an interactive table.\"\n",
              "              style=\"display:none;\">\n",
              "        \n",
              "  <svg xmlns=\"http://www.w3.org/2000/svg\" height=\"24px\"viewBox=\"0 0 24 24\"\n",
              "       width=\"24px\">\n",
              "    <path d=\"M0 0h24v24H0V0z\" fill=\"none\"/>\n",
              "    <path d=\"M18.56 5.44l.94 2.06.94-2.06 2.06-.94-2.06-.94-.94-2.06-.94 2.06-2.06.94zm-11 1L8.5 8.5l.94-2.06 2.06-.94-2.06-.94L8.5 2.5l-.94 2.06-2.06.94zm10 10l.94 2.06.94-2.06 2.06-.94-2.06-.94-.94-2.06-.94 2.06-2.06.94z\"/><path d=\"M17.41 7.96l-1.37-1.37c-.4-.4-.92-.59-1.43-.59-.52 0-1.04.2-1.43.59L10.3 9.45l-7.72 7.72c-.78.78-.78 2.05 0 2.83L4 21.41c.39.39.9.59 1.41.59.51 0 1.02-.2 1.41-.59l7.78-7.78 2.81-2.81c.8-.78.8-2.07 0-2.86zM5.41 20L4 18.59l7.72-7.72 1.47 1.35L5.41 20z\"/>\n",
              "  </svg>\n",
              "      </button>\n",
              "      \n",
              "  <style>\n",
              "    .colab-df-container {\n",
              "      display:flex;\n",
              "      flex-wrap:wrap;\n",
              "      gap: 12px;\n",
              "    }\n",
              "\n",
              "    .colab-df-convert {\n",
              "      background-color: #E8F0FE;\n",
              "      border: none;\n",
              "      border-radius: 50%;\n",
              "      cursor: pointer;\n",
              "      display: none;\n",
              "      fill: #1967D2;\n",
              "      height: 32px;\n",
              "      padding: 0 0 0 0;\n",
              "      width: 32px;\n",
              "    }\n",
              "\n",
              "    .colab-df-convert:hover {\n",
              "      background-color: #E2EBFA;\n",
              "      box-shadow: 0px 1px 2px rgba(60, 64, 67, 0.3), 0px 1px 3px 1px rgba(60, 64, 67, 0.15);\n",
              "      fill: #174EA6;\n",
              "    }\n",
              "\n",
              "    [theme=dark] .colab-df-convert {\n",
              "      background-color: #3B4455;\n",
              "      fill: #D2E3FC;\n",
              "    }\n",
              "\n",
              "    [theme=dark] .colab-df-convert:hover {\n",
              "      background-color: #434B5C;\n",
              "      box-shadow: 0px 1px 3px 1px rgba(0, 0, 0, 0.15);\n",
              "      filter: drop-shadow(0px 1px 2px rgba(0, 0, 0, 0.3));\n",
              "      fill: #FFFFFF;\n",
              "    }\n",
              "  </style>\n",
              "\n",
              "      <script>\n",
              "        const buttonEl =\n",
              "          document.querySelector('#df-caf16ca3-1d82-4d41-bd13-e60a53d8e18d button.colab-df-convert');\n",
              "        buttonEl.style.display =\n",
              "          google.colab.kernel.accessAllowed ? 'block' : 'none';\n",
              "\n",
              "        async function convertToInteractive(key) {\n",
              "          const element = document.querySelector('#df-caf16ca3-1d82-4d41-bd13-e60a53d8e18d');\n",
              "          const dataTable =\n",
              "            await google.colab.kernel.invokeFunction('convertToInteractive',\n",
              "                                                     [key], {});\n",
              "          if (!dataTable) return;\n",
              "\n",
              "          const docLinkHtml = 'Like what you see? Visit the ' +\n",
              "            '<a target=\"_blank\" href=https://colab.research.google.com/notebooks/data_table.ipynb>data table notebook</a>'\n",
              "            + ' to learn more about interactive tables.';\n",
              "          element.innerHTML = '';\n",
              "          dataTable['output_type'] = 'display_data';\n",
              "          await google.colab.output.renderOutput(dataTable, element);\n",
              "          const docLink = document.createElement('div');\n",
              "          docLink.innerHTML = docLinkHtml;\n",
              "          element.appendChild(docLink);\n",
              "        }\n",
              "      </script>\n",
              "    </div>\n",
              "  </div>\n",
              "  "
            ]
          },
          "metadata": {},
          "execution_count": 62
        }
      ]
    },
    {
      "cell_type": "code",
      "source": [
        "df['text'].apply(lambda x: len(x.split(' '))).sum()"
      ],
      "metadata": {
        "colab": {
          "base_uri": "https://localhost:8080/"
        },
        "id": "s7P8Q1Gbemga",
        "outputId": "25ba38f2-98f0-4c85-a5c1-7cc87cc497b2"
      },
      "execution_count": 63,
      "outputs": [
        {
          "output_type": "execute_result",
          "data": {
            "text/plain": [
              "154002"
            ]
          },
          "metadata": {},
          "execution_count": 63
        }
      ]
    },
    {
      "cell_type": "code",
      "source": [
        "df.category.unique()"
      ],
      "metadata": {
        "colab": {
          "base_uri": "https://localhost:8080/"
        },
        "id": "ocHd5Blle9Zh",
        "outputId": "570d019b-2c86-4187-c901-c56839ed6705"
      },
      "execution_count": 64,
      "outputs": [
        {
          "output_type": "execute_result",
          "data": {
            "text/plain": [
              "array(['card_arrival', 'card_linking', 'exchange_rate',\n",
              "       'card_payment_wrong_exchange_rate', 'extra_charge_on_statement',\n",
              "       'pending_cash_withdrawal', 'fiat_currency_support',\n",
              "       'card_delivery_estimate', 'automatic_top_up', 'card_not_working',\n",
              "       'exchange_via_app', 'lost_or_stolen_card', 'age_limit',\n",
              "       'pin_blocked', 'contactless_not_working',\n",
              "       'top_up_by_bank_transfer_charge', 'pending_top_up',\n",
              "       'cancel_transfer', 'top_up_limits',\n",
              "       'wrong_amount_of_cash_received', 'card_payment_fee_charged',\n",
              "       'transfer_not_received_by_recipient',\n",
              "       'supported_cards_and_currencies', 'getting_virtual_card',\n",
              "       'card_acceptance', 'top_up_reverted',\n",
              "       'balance_not_updated_after_cheque_or_cash_deposit',\n",
              "       'card_payment_not_recognised', 'edit_personal_details',\n",
              "       'why_verify_identity', 'unable_to_verify_identity',\n",
              "       'get_physical_card', 'visa_or_mastercard', 'topping_up_by_card',\n",
              "       'disposable_card_limits', 'compromised_card', 'atm_support',\n",
              "       'direct_debit_payment_not_recognised', 'passcode_forgotten',\n",
              "       'declined_cash_withdrawal', 'pending_card_payment',\n",
              "       'lost_or_stolen_phone', 'request_refund', 'declined_transfer',\n",
              "       'Refund_not_showing_up', 'declined_card_payment',\n",
              "       'pending_transfer', 'terminate_account', 'card_swallowed',\n",
              "       'transaction_charged_twice', 'verify_source_of_funds',\n",
              "       'transfer_timing', 'reverted_card_payment?', 'change_pin',\n",
              "       'beneficiary_not_allowed', 'transfer_fee_charged',\n",
              "       'receiving_money', 'failed_transfer', 'transfer_into_account',\n",
              "       'verify_top_up', 'getting_spare_card', 'top_up_by_cash_or_cheque',\n",
              "       'order_physical_card', 'virtual_card_not_working',\n",
              "       'wrong_exchange_rate_for_cash_withdrawal',\n",
              "       'get_disposable_virtual_card', 'top_up_failed',\n",
              "       'balance_not_updated_after_bank_transfer',\n",
              "       'cash_withdrawal_not_recognised', 'exchange_charge',\n",
              "       'top_up_by_card_charge', 'activate_my_card',\n",
              "       'cash_withdrawal_charge', 'card_about_to_expire',\n",
              "       'apple_pay_or_google_pay', 'verify_my_identity', 'country_support'],\n",
              "      dtype=object)"
            ]
          },
          "metadata": {},
          "execution_count": 64
        }
      ]
    },
    {
      "cell_type": "code",
      "source": [
        "my_tags = df.category.unique()\n",
        "plt.figure(figsize=(20,4))\n",
        "df.category.value_counts().plot(kind='bar');"
      ],
      "metadata": {
        "colab": {
          "base_uri": "https://localhost:8080/",
          "height": 518
        },
        "id": "JwLCPJqAexF4",
        "outputId": "086fe518-7c03-4ee6-8731-e6472d1083c2"
      },
      "execution_count": 65,
      "outputs": [
        {
          "output_type": "display_data",
          "data": {
            "text/plain": [
              "<Figure size 1440x288 with 1 Axes>"
            ],
            "image/png": "[encoded data removed]"
          },
          "metadata": {
            "needs_background": "light"
          }
        }
      ]
    },
    {
      "cell_type": "code",
      "source": [
        "def print_plot(index):\n",
        "    example = df[df.index == index][['text', 'category']].values[0]\n",
        "    if len(example) > 0:\n",
        "        print(example[0])\n",
        "        print('Tag:', example[1])"
      ],
      "metadata": {
        "id": "7N7J2HNzgHCZ"
      },
      "execution_count": 66,
      "outputs": []
    },
    {
      "cell_type": "code",
      "source": [
        "import nltk\n",
        "nltk.download('stopwords')\n",
        "\n",
        "REPLACE_BY_SPACE_RE = re.compile('[/(){}\\[\\]\\|@,;]')\n",
        "BAD_SYMBOLS_RE = re.compile('[^0-9a-z #+_]')\n",
        "STOPWORDS = set(stopwords.words('english'))\n",
        "\n",
        "def clean_text(text):\n",
        "    \"\"\"\n",
        "        text: a string\n",
        "        \n",
        "        return: modified initial string\n",
        "    \"\"\"\n",
        "    text = BeautifulSoup(text, \"lxml\").text # HTML decoding\n",
        "    text = text.lower() # lowercase text\n",
        "    text = REPLACE_BY_SPACE_RE.sub(' ', text) # replace REPLACE_BY_SPACE_RE symbols by space in text\n",
        "    text = BAD_SYMBOLS_RE.sub('', text) # delete symbols which are in BAD_SYMBOLS_RE from text\n",
        "    text = ' '.join(word for word in text.split() if word not in STOPWORDS) # delete stopwors from text\n",
        "    return text"
      ],
      "metadata": {
        "colab": {
          "base_uri": "https://localhost:8080/"
        },
        "id": "co3J_AK8fmcC",
        "outputId": "99fa1467-3552-4a8b-92be-9474570ed5d0"
      },
      "execution_count": 67,
      "outputs": [
        {
          "output_type": "stream",
          "name": "stderr",
          "text": [
            "[nltk_data] Downloading package stopwords to /root/nltk_data...\n",
            "[nltk_data]   Package stopwords is already up-to-date!\n"
          ]
        }
      ]
    },
    {
      "cell_type": "code",
      "source": [
        "df['text'] = df['text'].apply(clean_text)"
      ],
      "metadata": {
        "id": "vor8dFlYf4Kh"
      },
      "execution_count": 68,
      "outputs": []
    },
    {
      "cell_type": "code",
      "source": [
        "print_plot(500)"
      ],
      "metadata": {
        "colab": {
          "base_uri": "https://localhost:8080/"
        },
        "id": "8nf8mkISgBTx",
        "outputId": "2649a069-2ce2-4f84-d060-906e4da1186e"
      },
      "execution_count": 69,
      "outputs": [
        {
          "output_type": "stream",
          "name": "stdout",
          "text": [
            "exchange rate different expected\n",
            "Tag: card_payment_wrong_exchange_rate\n"
          ]
        }
      ]
    },
    {
      "cell_type": "code",
      "source": [
        "df['text'].apply(lambda x: len(x.split(' '))).sum()"
      ],
      "metadata": {
        "colab": {
          "base_uri": "https://localhost:8080/"
        },
        "id": "cW3UAxhkgZ4S",
        "outputId": "ed4956c3-25e1-4b57-f3d4-7f7f5a4fdf7d"
      },
      "execution_count": 70,
      "outputs": [
        {
          "output_type": "execute_result",
          "data": {
            "text/plain": [
              "69499"
            ]
          },
          "metadata": {},
          "execution_count": 70
        }
      ]
    },
    {
      "cell_type": "code",
      "source": [
        "X = df.text\n",
        "y = df.category\n",
        "X_train, X_test, y_train, y_test = train_test_split(X, y, test_size=0.3, random_state = 42)"
      ],
      "metadata": {
        "id": "OypGOskvglUo"
      },
      "execution_count": 71,
      "outputs": []
    },
    {
      "cell_type": "markdown",
      "source": [
        "# Naive Bayes"
      ],
      "metadata": {
        "id": "oec6Cvncl3pp"
      }
    },
    {
      "cell_type": "code",
      "source": [
        "from sklearn.naive_bayes import MultinomialNB\n",
        "from sklearn.pipeline import Pipeline\n",
        "from sklearn.feature_extraction.text import TfidfTransformer\n",
        "\n",
        "nb = Pipeline([('vect', CountVectorizer()),\n",
        "               ('tfidf', TfidfTransformer()),\n",
        "               ('clf', MultinomialNB()),\n",
        "              ])\n",
        "nb.fit(X_train, y_train)"
      ],
      "metadata": {
        "colab": {
          "base_uri": "https://localhost:8080/"
        },
        "id": "is4g9PwYgzeA",
        "outputId": "841b23db-e189-475d-e063-71bb918ecce7"
      },
      "execution_count": 72,
      "outputs": [
        {
          "output_type": "execute_result",
          "data": {
            "text/plain": [
              "Pipeline(steps=[('vect', CountVectorizer()), ('tfidf', TfidfTransformer()),\n",
              "                ('clf', MultinomialNB())])"
            ]
          },
          "metadata": {},
          "execution_count": 72
        }
      ]
    },
    {
      "cell_type": "code",
      "source": [
        "%%time\n",
        "from sklearn.metrics import classification_report\n",
        "y_pred = nb.predict(X_test)\n",
        "\n",
        "print('accuracy %s' % accuracy_score(y_pred, y_test))\n",
        "print(classification_report(y_test, y_pred,target_names=my_tags))"
      ],
      "metadata": {
        "colab": {
          "base_uri": "https://localhost:8080/"
        },
        "id": "J2FFUgqIg1vR",
        "outputId": "d6f9c8e0-84a6-42d2-af7e-c8efbaf9aa4e"
      },
      "execution_count": 73,
      "outputs": [
        {
          "output_type": "stream",
          "name": "stdout",
          "text": [
            "accuracy 0.8170700636942675\n",
            "                                                  precision    recall  f1-score   support\n",
            "\n",
            "                                    card_arrival       0.87      0.79      0.83        68\n",
            "                                    card_linking       0.97      0.95      0.96        76\n",
            "                                   exchange_rate       1.00      0.89      0.94        55\n",
            "                card_payment_wrong_exchange_rate       0.79      1.00      0.88        50\n",
            "                       extra_charge_on_statement       0.92      0.83      0.87        29\n",
            "                         pending_cash_withdrawal       0.90      0.91      0.91        47\n",
            "                           fiat_currency_support       0.65      0.74      0.69        70\n",
            "                          card_delivery_estimate       0.85      0.86      0.85        71\n",
            "                                automatic_top_up       0.76      0.96      0.85        49\n",
            "                                card_not_working       0.78      0.97      0.86        59\n",
            "                                exchange_via_app       0.63      0.98      0.76        53\n",
            "                             lost_or_stolen_card       0.92      0.37      0.52        30\n",
            "                                       age_limit       0.90      0.81      0.85        68\n",
            "                                     pin_blocked       0.93      0.60      0.73        45\n",
            "                         contactless_not_working       0.92      0.98      0.95        48\n",
            "                  top_up_by_bank_transfer_charge       0.77      0.73      0.75        45\n",
            "                                  pending_top_up       0.75      0.87      0.81        70\n",
            "                                 cancel_transfer       0.76      0.81      0.79        64\n",
            "                                   top_up_limits       0.79      0.93      0.85        68\n",
            "                   wrong_amount_of_cash_received       0.87      0.59      0.70        22\n",
            "                        card_payment_fee_charged       0.94      0.94      0.94        67\n",
            "              transfer_not_received_by_recipient       0.78      0.88      0.83        57\n",
            "                  supported_cards_and_currencies       0.88      0.96      0.92        51\n",
            "                            getting_virtual_card       0.94      0.91      0.92        33\n",
            "                                 card_acceptance       1.00      0.64      0.78        22\n",
            "                                 top_up_reverted       0.96      0.81      0.88        54\n",
            "balance_not_updated_after_cheque_or_cash_deposit       0.65      0.84      0.74        51\n",
            "                     card_payment_not_recognised       0.63      0.96      0.76        54\n",
            "                           edit_personal_details       0.95      0.78      0.85        49\n",
            "                             why_verify_identity       0.87      0.86      0.87        72\n",
            "                       unable_to_verify_identity       0.74      0.96      0.83        50\n",
            "                               get_physical_card       0.98      1.00      0.99        43\n",
            "                              visa_or_mastercard       0.95      0.80      0.87        65\n",
            "                              topping_up_by_card       0.83      0.71      0.77        42\n",
            "                          disposable_card_limits       0.96      0.80      0.87        54\n",
            "                                compromised_card       0.88      0.77      0.82        60\n",
            "                                     atm_support       0.92      0.73      0.81        63\n",
            "             direct_debit_payment_not_recognised       0.77      0.91      0.83        44\n",
            "                              passcode_forgotten       0.46      0.83      0.59        35\n",
            "                        declined_cash_withdrawal       0.95      0.72      0.82        50\n",
            "                            pending_card_payment       0.74      0.79      0.76        47\n",
            "                            lost_or_stolen_phone       0.93      0.50      0.65        54\n",
            "                                  request_refund       0.87      0.51      0.65        39\n",
            "                               declined_transfer       0.87      0.94      0.90        48\n",
            "                           Refund_not_showing_up       0.85      0.53      0.65        55\n",
            "                           declined_card_payment       0.98      0.91      0.94        46\n",
            "                                pending_transfer       0.75      0.94      0.84        54\n",
            "                               terminate_account       0.90      0.87      0.88        52\n",
            "                                  card_swallowed       0.78      0.63      0.70        57\n",
            "                       transaction_charged_twice       0.82      0.71      0.76        58\n",
            "                          verify_source_of_funds       0.90      0.90      0.90        52\n",
            "                                 transfer_timing       0.79      0.73      0.76        26\n",
            "                          reverted_card_payment?       0.81      0.89      0.85        56\n",
            "                                      change_pin       0.91      0.84      0.88        63\n",
            "                         beneficiary_not_allowed       0.92      0.92      0.92        59\n",
            "                            transfer_fee_charged       1.00      0.83      0.91        48\n",
            "                                 receiving_money       0.83      0.78      0.81        37\n",
            "                                 failed_transfer       0.78      1.00      0.88        35\n",
            "                           transfer_into_account       0.76      0.78      0.77        40\n",
            "                                   verify_top_up       0.78      0.66      0.71        58\n",
            "                              getting_spare_card       1.00      0.77      0.87        47\n",
            "                        top_up_by_cash_or_cheque       0.80      0.69      0.74        51\n",
            "                             order_physical_card       0.78      0.64      0.70        39\n",
            "                        virtual_card_not_working       0.91      0.95      0.93        63\n",
            "         wrong_exchange_rate_for_cash_withdrawal       0.66      0.77      0.71        48\n",
            "                     get_disposable_virtual_card       0.79      0.91      0.85        45\n",
            "                                   top_up_failed       0.59      0.80      0.68        59\n",
            "         balance_not_updated_after_bank_transfer       0.66      0.69      0.67        48\n",
            "                  cash_withdrawal_not_recognised       0.75      0.71      0.73        38\n",
            "                                 exchange_charge       0.59      0.66      0.62        44\n",
            "                           top_up_by_card_charge       0.93      0.89      0.91        44\n",
            "                                activate_my_card       0.79      1.00      0.88        49\n",
            "                          cash_withdrawal_charge       1.00      0.43      0.61        23\n",
            "                            card_about_to_expire       0.96      0.98      0.97        51\n",
            "                         apple_pay_or_google_pay       0.70      0.50      0.58        56\n",
            "                              verify_my_identity       0.87      0.90      0.89        69\n",
            "                                 country_support       0.73      0.77      0.75        64\n",
            "\n",
            "                                        accuracy                           0.82      3925\n",
            "                                       macro avg       0.83      0.81      0.81      3925\n",
            "                                    weighted avg       0.83      0.82      0.82      3925\n",
            "\n",
            "CPU times: user 175 ms, sys: 655 µs, total: 175 ms\n",
            "Wall time: 182 ms\n"
          ]
        }
      ]
    },
    {
      "cell_type": "markdown",
      "source": [
        "# Support Vector Machine"
      ],
      "metadata": {
        "id": "lEhUx1g2l9xh"
      }
    },
    {
      "cell_type": "code",
      "source": [
        "from sklearn.linear_model import SGDClassifier\n",
        "\n",
        "sgd = Pipeline([('vect', CountVectorizer()),\n",
        "                ('tfidf', TfidfTransformer()),\n",
        "                ('clf', SGDClassifier(loss='hinge', penalty='l2',alpha=1e-3, random_state=42, max_iter=5, tol=None)),\n",
        "               ])\n",
        "sgd.fit(X_train, y_train)"
      ],
      "metadata": {
        "colab": {
          "base_uri": "https://localhost:8080/"
        },
        "id": "tLp9PVJJg9JC",
        "outputId": "81e128f9-5ee9-4379-fa68-0e29a6e1083b"
      },
      "execution_count": 74,
      "outputs": [
        {
          "output_type": "execute_result",
          "data": {
            "text/plain": [
              "Pipeline(steps=[('vect', CountVectorizer()), ('tfidf', TfidfTransformer()),\n",
              "                ('clf',\n",
              "                 SGDClassifier(alpha=0.001, max_iter=5, random_state=42,\n",
              "                               tol=None))])"
            ]
          },
          "metadata": {},
          "execution_count": 74
        }
      ]
    },
    {
      "cell_type": "code",
      "source": [
        "%%time\n",
        "\n",
        "y_pred = sgd.predict(X_test)\n",
        "\n",
        "print('accuracy %s' % accuracy_score(y_pred, y_test))\n",
        "print(classification_report(y_test, y_pred,target_names=my_tags))"
      ],
      "metadata": {
        "colab": {
          "base_uri": "https://localhost:8080/"
        },
        "id": "it9LfTHLg_lo",
        "outputId": "794266e5-0055-4008-f841-ecdd9d75b4de"
      },
      "execution_count": 75,
      "outputs": [
        {
          "output_type": "stream",
          "name": "stdout",
          "text": [
            "accuracy 0.8030573248407643\n",
            "                                                  precision    recall  f1-score   support\n",
            "\n",
            "                                    card_arrival       0.82      0.91      0.86        68\n",
            "                                    card_linking       0.89      0.95      0.92        76\n",
            "                                   exchange_rate       0.89      1.00      0.94        55\n",
            "                card_payment_wrong_exchange_rate       0.71      1.00      0.83        50\n",
            "                       extra_charge_on_statement       0.83      0.86      0.85        29\n",
            "                         pending_cash_withdrawal       0.79      0.94      0.85        47\n",
            "                           fiat_currency_support       0.72      0.66      0.69        70\n",
            "                          card_delivery_estimate       0.77      0.86      0.81        71\n",
            "                                automatic_top_up       0.83      0.92      0.87        49\n",
            "                                card_not_working       0.73      0.95      0.82        59\n",
            "                                exchange_via_app       0.88      0.96      0.92        53\n",
            "                             lost_or_stolen_card       0.80      0.40      0.53        30\n",
            "                                       age_limit       0.87      0.76      0.81        68\n",
            "                                     pin_blocked       0.71      0.71      0.71        45\n",
            "                         contactless_not_working       0.90      0.96      0.93        48\n",
            "                  top_up_by_bank_transfer_charge       0.80      0.82      0.81        45\n",
            "                                  pending_top_up       0.78      0.76      0.77        70\n",
            "                                 cancel_transfer       0.80      0.75      0.77        64\n",
            "                                   top_up_limits       0.82      0.82      0.82        68\n",
            "                   wrong_amount_of_cash_received       0.77      0.91      0.83        22\n",
            "                        card_payment_fee_charged       0.93      0.84      0.88        67\n",
            "              transfer_not_received_by_recipient       0.90      0.77      0.83        57\n",
            "                  supported_cards_and_currencies       0.96      0.92      0.94        51\n",
            "                            getting_virtual_card       0.85      0.85      0.85        33\n",
            "                                 card_acceptance       0.90      0.86      0.88        22\n",
            "                                 top_up_reverted       0.81      0.85      0.83        54\n",
            "balance_not_updated_after_cheque_or_cash_deposit       0.87      0.76      0.81        51\n",
            "                     card_payment_not_recognised       0.87      0.83      0.85        54\n",
            "                           edit_personal_details       0.85      0.82      0.83        49\n",
            "                             why_verify_identity       0.92      0.75      0.82        72\n",
            "                       unable_to_verify_identity       0.77      0.88      0.82        50\n",
            "                               get_physical_card       0.80      1.00      0.89        43\n",
            "                              visa_or_mastercard       0.85      0.77      0.81        65\n",
            "                              topping_up_by_card       0.69      0.88      0.77        42\n",
            "                          disposable_card_limits       0.92      0.85      0.88        54\n",
            "                                compromised_card       0.81      0.77      0.79        60\n",
            "                                     atm_support       0.92      0.78      0.84        63\n",
            "             direct_debit_payment_not_recognised       0.82      0.82      0.82        44\n",
            "                              passcode_forgotten       0.72      0.74      0.73        35\n",
            "                        declined_cash_withdrawal       0.74      0.92      0.82        50\n",
            "                            pending_card_payment       0.70      0.74      0.72        47\n",
            "                            lost_or_stolen_phone       0.74      1.00      0.85        54\n",
            "                                  request_refund       0.79      0.77      0.78        39\n",
            "                               declined_transfer       0.88      0.94      0.91        48\n",
            "                           Refund_not_showing_up       0.80      0.64      0.71        55\n",
            "                           declined_card_payment       0.78      0.78      0.78        46\n",
            "                                pending_transfer       0.77      0.98      0.86        54\n",
            "                               terminate_account       0.93      0.81      0.87        52\n",
            "                                  card_swallowed       0.86      0.63      0.73        57\n",
            "                       transaction_charged_twice       0.80      0.76      0.78        58\n",
            "                          verify_source_of_funds       0.91      0.75      0.82        52\n",
            "                                 transfer_timing       0.79      0.73      0.76        26\n",
            "                          reverted_card_payment?       0.83      0.71      0.77        56\n",
            "                                      change_pin       0.89      0.78      0.83        63\n",
            "                         beneficiary_not_allowed       0.92      0.78      0.84        59\n",
            "                            transfer_fee_charged       0.84      0.88      0.86        48\n",
            "                                 receiving_money       0.87      0.70      0.78        37\n",
            "                                 failed_transfer       0.72      0.97      0.83        35\n",
            "                           transfer_into_account       0.68      0.75      0.71        40\n",
            "                                   verify_top_up       0.86      0.62      0.72        58\n",
            "                              getting_spare_card       0.90      0.77      0.83        47\n",
            "                        top_up_by_cash_or_cheque       0.78      0.71      0.74        51\n",
            "                             order_physical_card       0.74      0.67      0.70        39\n",
            "                        virtual_card_not_working       0.77      0.94      0.84        63\n",
            "         wrong_exchange_rate_for_cash_withdrawal       0.85      0.69      0.76        48\n",
            "                     get_disposable_virtual_card       0.67      0.87      0.76        45\n",
            "                                   top_up_failed       0.78      0.66      0.72        59\n",
            "         balance_not_updated_after_bank_transfer       0.72      0.65      0.68        48\n",
            "                  cash_withdrawal_not_recognised       0.74      0.74      0.74        38\n",
            "                                 exchange_charge       0.54      0.70      0.61        44\n",
            "                           top_up_by_card_charge       0.66      0.89      0.76        44\n",
            "                                activate_my_card       0.68      0.98      0.80        49\n",
            "                          cash_withdrawal_charge       1.00      0.17      0.30        23\n",
            "                            card_about_to_expire       0.79      0.96      0.87        51\n",
            "                         apple_pay_or_google_pay       0.68      0.34      0.45        56\n",
            "                              verify_my_identity       0.71      0.87      0.78        69\n",
            "                                 country_support       0.91      0.62      0.74        64\n",
            "\n",
            "                                        accuracy                           0.80      3925\n",
            "                                       macro avg       0.81      0.80      0.79      3925\n",
            "                                    weighted avg       0.81      0.80      0.80      3925\n",
            "\n",
            "CPU times: user 181 ms, sys: 0 ns, total: 181 ms\n",
            "Wall time: 179 ms\n"
          ]
        }
      ]
    },
    {
      "cell_type": "markdown",
      "source": [
        "# Logistic Regression"
      ],
      "metadata": {
        "id": "qYBoWgk7mEex"
      }
    },
    {
      "cell_type": "code",
      "source": [
        "from sklearn.linear_model import LogisticRegression\n",
        "\n",
        "logreg = Pipeline([('vect', CountVectorizer()),\n",
        "                ('tfidf', TfidfTransformer()),\n",
        "                ('clf', LogisticRegression(n_jobs=1, C=1e5)),\n",
        "               ])\n",
        "logreg.fit(X_train, y_train)"
      ],
      "metadata": {
        "colab": {
          "base_uri": "https://localhost:8080/"
        },
        "id": "9-MRJ03ThEFy",
        "outputId": "c9c88d15-0786-4926-b1d9-053fb175a678"
      },
      "execution_count": 76,
      "outputs": [
        {
          "output_type": "stream",
          "name": "stderr",
          "text": [
            "/usr/local/lib/python3.8/dist-packages/sklearn/linear_model/_logistic.py:814: ConvergenceWarning: lbfgs failed to converge (status=1):\n",
            "STOP: TOTAL NO. of ITERATIONS REACHED LIMIT.\n",
            "\n",
            "Increase the number of iterations (max_iter) or scale the data as shown in:\n",
            "    https://scikit-learn.org/stable/modules/preprocessing.html\n",
            "Please also refer to the documentation for alternative solver options:\n",
            "    https://scikit-learn.org/stable/modules/linear_model.html#logistic-regression\n",
            "  n_iter_i = _check_optimize_result(\n"
          ]
        },
        {
          "output_type": "execute_result",
          "data": {
            "text/plain": [
              "Pipeline(steps=[('vect', CountVectorizer()), ('tfidf', TfidfTransformer()),\n",
              "                ('clf', LogisticRegression(C=100000.0, n_jobs=1))])"
            ]
          },
          "metadata": {},
          "execution_count": 76
        }
      ]
    },
    {
      "cell_type": "code",
      "source": [
        "%%time\n",
        "\n",
        "y_pred = logreg.predict(X_test)\n",
        "\n",
        "print('accuracy %s' % accuracy_score(y_pred, y_test))\n",
        "print(classification_report(y_test, y_pred,target_names=my_tags))"
      ],
      "metadata": {
        "colab": {
          "base_uri": "https://localhost:8080/"
        },
        "id": "5LgPnK6WhGWY",
        "outputId": "b91c5169-ca0b-4c79-dcec-4ba826c20b49"
      },
      "execution_count": 77,
      "outputs": [
        {
          "output_type": "stream",
          "name": "stdout",
          "text": [
            "accuracy 0.8524840764331211\n",
            "                                                  precision    recall  f1-score   support\n",
            "\n",
            "                                    card_arrival       0.90      0.84      0.87        68\n",
            "                                    card_linking       1.00      0.95      0.97        76\n",
            "                                   exchange_rate       1.00      0.96      0.98        55\n",
            "                card_payment_wrong_exchange_rate       0.93      1.00      0.96        50\n",
            "                       extra_charge_on_statement       0.88      0.97      0.92        29\n",
            "                         pending_cash_withdrawal       0.96      0.94      0.95        47\n",
            "                           fiat_currency_support       0.70      0.73      0.71        70\n",
            "                          card_delivery_estimate       0.90      0.80      0.85        71\n",
            "                                automatic_top_up       0.80      0.90      0.85        49\n",
            "                                card_not_working       0.90      0.92      0.91        59\n",
            "                                exchange_via_app       1.00      0.96      0.98        53\n",
            "                             lost_or_stolen_card       0.86      0.83      0.85        30\n",
            "                                       age_limit       0.89      0.81      0.85        68\n",
            "                                     pin_blocked       0.62      0.87      0.72        45\n",
            "                         contactless_not_working       0.98      0.90      0.93        48\n",
            "                  top_up_by_bank_transfer_charge       0.81      0.84      0.83        45\n",
            "                                  pending_top_up       0.92      0.77      0.84        70\n",
            "                                 cancel_transfer       0.81      0.80      0.80        64\n",
            "                                   top_up_limits       0.88      0.88      0.88        68\n",
            "                   wrong_amount_of_cash_received       0.95      0.91      0.93        22\n",
            "                        card_payment_fee_charged       0.96      0.97      0.96        67\n",
            "              transfer_not_received_by_recipient       0.94      0.79      0.86        57\n",
            "                  supported_cards_and_currencies       0.98      0.96      0.97        51\n",
            "                            getting_virtual_card       0.76      0.88      0.82        33\n",
            "                                 card_acceptance       0.95      0.82      0.88        22\n",
            "                                 top_up_reverted       0.94      0.94      0.94        54\n",
            "balance_not_updated_after_cheque_or_cash_deposit       0.68      0.84      0.75        51\n",
            "                     card_payment_not_recognised       0.81      0.93      0.86        54\n",
            "                           edit_personal_details       0.90      0.71      0.80        49\n",
            "                             why_verify_identity       0.89      0.76      0.82        72\n",
            "                       unable_to_verify_identity       0.92      0.90      0.91        50\n",
            "                               get_physical_card       0.98      1.00      0.99        43\n",
            "                              visa_or_mastercard       0.91      0.91      0.91        65\n",
            "                              topping_up_by_card       0.80      0.86      0.83        42\n",
            "                          disposable_card_limits       0.94      0.83      0.88        54\n",
            "                                compromised_card       0.83      0.83      0.83        60\n",
            "                                     atm_support       0.82      0.71      0.76        63\n",
            "             direct_debit_payment_not_recognised       0.81      0.89      0.85        44\n",
            "                              passcode_forgotten       0.88      0.83      0.85        35\n",
            "                        declined_cash_withdrawal       0.90      0.86      0.88        50\n",
            "                            pending_card_payment       0.79      0.79      0.79        47\n",
            "                            lost_or_stolen_phone       0.91      0.96      0.94        54\n",
            "                                  request_refund       0.81      0.90      0.85        39\n",
            "                               declined_transfer       0.96      0.90      0.92        48\n",
            "                           Refund_not_showing_up       0.77      0.73      0.75        55\n",
            "                           declined_card_payment       0.98      1.00      0.99        46\n",
            "                                pending_transfer       0.92      0.91      0.92        54\n",
            "                               terminate_account       0.90      0.88      0.89        52\n",
            "                                  card_swallowed       0.79      0.77      0.78        57\n",
            "                       transaction_charged_twice       0.68      0.74      0.71        58\n",
            "                          verify_source_of_funds       0.86      0.85      0.85        52\n",
            "                                 transfer_timing       0.88      0.88      0.88        26\n",
            "                          reverted_card_payment?       0.78      0.91      0.84        56\n",
            "                                      change_pin       0.82      0.84      0.83        63\n",
            "                         beneficiary_not_allowed       0.87      0.93      0.90        59\n",
            "                            transfer_fee_charged       1.00      0.83      0.91        48\n",
            "                                 receiving_money       0.82      0.86      0.84        37\n",
            "                                 failed_transfer       0.89      0.97      0.93        35\n",
            "                           transfer_into_account       0.79      0.85      0.82        40\n",
            "                                   verify_top_up       0.82      0.69      0.75        58\n",
            "                              getting_spare_card       0.88      0.91      0.90        47\n",
            "                        top_up_by_cash_or_cheque       0.75      0.75      0.75        51\n",
            "                             order_physical_card       0.65      0.67      0.66        39\n",
            "                        virtual_card_not_working       0.88      0.94      0.91        63\n",
            "         wrong_exchange_rate_for_cash_withdrawal       0.84      0.77      0.80        48\n",
            "                     get_disposable_virtual_card       0.75      0.87      0.80        45\n",
            "                                   top_up_failed       0.70      0.75      0.72        59\n",
            "         balance_not_updated_after_bank_transfer       0.65      0.71      0.68        48\n",
            "                  cash_withdrawal_not_recognised       0.78      0.82      0.79        38\n",
            "                                 exchange_charge       0.64      0.61      0.63        44\n",
            "                           top_up_by_card_charge       0.91      0.91      0.91        44\n",
            "                                activate_my_card       0.92      0.98      0.95        49\n",
            "                          cash_withdrawal_charge       0.86      0.83      0.84        23\n",
            "                            card_about_to_expire       0.93      0.98      0.95        51\n",
            "                         apple_pay_or_google_pay       0.67      0.70      0.68        56\n",
            "                              verify_my_identity       0.91      0.88      0.90        69\n",
            "                                 country_support       0.85      0.78      0.81        64\n",
            "\n",
            "                                        accuracy                           0.85      3925\n",
            "                                       macro avg       0.86      0.86      0.85      3925\n",
            "                                    weighted avg       0.86      0.85      0.85      3925\n",
            "\n",
            "CPU times: user 173 ms, sys: 0 ns, total: 173 ms\n",
            "Wall time: 177 ms\n"
          ]
        }
      ]
    },
    {
      "cell_type": "markdown",
      "source": [
        "# Keras Neural Network"
      ],
      "metadata": {
        "id": "mCLRVkdymJ4S"
      }
    },
    {
      "cell_type": "code",
      "source": [
        "import itertools\n",
        "import os\n",
        "\n",
        "%matplotlib inline\n",
        "import matplotlib.pyplot as plt\n",
        "import numpy as np\n",
        "import pandas as pd\n",
        "import tensorflow as tf\n",
        "\n",
        "from sklearn.preprocessing import LabelBinarizer, LabelEncoder\n",
        "from sklearn.metrics import confusion_matrix\n",
        "\n",
        "from tensorflow import keras\n",
        "from keras.models import Sequential\n",
        "from keras.layers import Dense, Activation, Dropout\n",
        "from keras.preprocessing import text, sequence\n",
        "from keras import utils"
      ],
      "metadata": {
        "id": "cc-YXyO8hT5R"
      },
      "execution_count": 78,
      "outputs": []
    },
    {
      "cell_type": "code",
      "source": [
        "train_size = int(len(df) * .7)\n",
        "print (\"Train size: %d\" % train_size)\n",
        "print (\"Test size: %d\" % (len(df) - train_size))"
      ],
      "metadata": {
        "colab": {
          "base_uri": "https://localhost:8080/"
        },
        "id": "NqDFzllhhZQZ",
        "outputId": "621dfbe3-4a7f-470b-ee0d-1cdbbd3076cd"
      },
      "execution_count": 79,
      "outputs": [
        {
          "output_type": "stream",
          "name": "stdout",
          "text": [
            "Train size: 9158\n",
            "Test size: 3925\n"
          ]
        }
      ]
    },
    {
      "cell_type": "code",
      "source": [
        "X = df.text\n",
        "y = df.category\n",
        "train_posts, test_posts, train_tags, test_tags = train_test_split(X, y, test_size=0.3, random_state = 42)"
      ],
      "metadata": {
        "id": "q2J2if58lBlY"
      },
      "execution_count": 85,
      "outputs": []
    },
    {
      "cell_type": "code",
      "source": [
        "train_posts = df['text'][:train_size]\n",
        "train_tags = df['category'][:train_size]\n",
        "\n",
        "test_posts = df['text'][train_size:]\n",
        "test_tags = df['category'][train_size:]"
      ],
      "metadata": {
        "id": "6qrI62MDhcKQ"
      },
      "execution_count": 81,
      "outputs": []
    },
    {
      "cell_type": "code",
      "source": [
        "max_words = 1000\n",
        "tokenize = text.Tokenizer(num_words=max_words, char_level=False)"
      ],
      "metadata": {
        "id": "h4DpdkafhihH"
      },
      "execution_count": 86,
      "outputs": []
    },
    {
      "cell_type": "code",
      "source": [
        "tokenize.fit_on_texts(train_posts) # only fit on train\n",
        "x_train = tokenize.texts_to_matrix(train_posts)\n",
        "x_test = tokenize.texts_to_matrix(test_posts)"
      ],
      "metadata": {
        "id": "LEMhW4CphkvQ"
      },
      "execution_count": 87,
      "outputs": []
    },
    {
      "cell_type": "code",
      "source": [
        "encoder = LabelEncoder()\n",
        "encoder.fit(train_tags)\n",
        "y_train = encoder.transform(train_tags)\n",
        "y_test = encoder.transform(test_tags)"
      ],
      "metadata": {
        "id": "-VPbkoNuhm2A"
      },
      "execution_count": 88,
      "outputs": []
    },
    {
      "cell_type": "code",
      "source": [
        "num_classes = np.max(y_train) + 1\n",
        "y_train = utils.to_categorical(y_train, num_classes)\n",
        "y_test = utils.to_categorical(y_test, num_classes)"
      ],
      "metadata": {
        "id": "1RGxTF_RiKRw"
      },
      "execution_count": 89,
      "outputs": []
    },
    {
      "cell_type": "code",
      "source": [
        "print('x_train shape:', x_train.shape)\n",
        "print('x_test shape:', x_test.shape)\n",
        "print('y_train shape:', y_train.shape)\n",
        "print('y_test shape:', y_test.shape)"
      ],
      "metadata": {
        "colab": {
          "base_uri": "https://localhost:8080/"
        },
        "id": "b8QAxnGciNWg",
        "outputId": "3e35ba63-9daf-474f-e8f6-8b2808361f97"
      },
      "execution_count": 90,
      "outputs": [
        {
          "output_type": "stream",
          "name": "stdout",
          "text": [
            "x_train shape: (9158, 1000)\n",
            "x_test shape: (3925, 1000)\n",
            "y_train shape: (9158, 77)\n",
            "y_test shape: (3925, 77)\n"
          ]
        }
      ]
    },
    {
      "cell_type": "code",
      "source": [
        "x_test"
      ],
      "metadata": {
        "colab": {
          "base_uri": "https://localhost:8080/"
        },
        "id": "Xw6aRdGrjM_q",
        "outputId": "1254f131-47c2-4894-93b7-a628e72fbf37"
      },
      "execution_count": 91,
      "outputs": [
        {
          "output_type": "execute_result",
          "data": {
            "text/plain": [
              "array([[0., 0., 0., ..., 0., 0., 0.],\n",
              "       [0., 0., 0., ..., 0., 0., 0.],\n",
              "       [0., 1., 0., ..., 0., 0., 0.],\n",
              "       ...,\n",
              "       [0., 0., 0., ..., 0., 0., 0.],\n",
              "       [0., 0., 1., ..., 0., 0., 0.],\n",
              "       [0., 0., 0., ..., 0., 0., 0.]])"
            ]
          },
          "metadata": {},
          "execution_count": 91
        }
      ]
    },
    {
      "cell_type": "code",
      "source": [
        "y_test"
      ],
      "metadata": {
        "colab": {
          "base_uri": "https://localhost:8080/"
        },
        "id": "y0HrYr1ZjTD7",
        "outputId": "b8168e0b-3a82-4d6d-de0a-de58d781bb89"
      },
      "execution_count": 92,
      "outputs": [
        {
          "output_type": "execute_result",
          "data": {
            "text/plain": [
              "array([[0., 0., 0., ..., 0., 0., 0.],\n",
              "       [0., 0., 0., ..., 0., 0., 0.],\n",
              "       [0., 0., 0., ..., 0., 0., 0.],\n",
              "       ...,\n",
              "       [0., 0., 0., ..., 0., 0., 0.],\n",
              "       [0., 0., 0., ..., 0., 0., 0.],\n",
              "       [0., 0., 0., ..., 0., 0., 0.]], dtype=float32)"
            ]
          },
          "metadata": {},
          "execution_count": 92
        }
      ]
    },
    {
      "cell_type": "code",
      "source": [
        "batch_size = 32\n",
        "epochs = 10"
      ],
      "metadata": {
        "id": "1V2nUzqZiQT4"
      },
      "execution_count": 97,
      "outputs": []
    },
    {
      "cell_type": "code",
      "source": [
        "# Build the model\n",
        "model = Sequential()\n",
        "model.add(Dense(512, input_shape=(max_words,)))\n",
        "model.add(Activation('relu'))\n",
        "model.add(Dropout(0.5))\n",
        "model.add(Dense(num_classes))\n",
        "model.add(Activation('softmax'))\n",
        "\n",
        "model.compile(loss='categorical_crossentropy',\n",
        "              optimizer='adam',\n",
        "              metrics=['accuracy'])"
      ],
      "metadata": {
        "id": "2Tr8MB9HiTtQ"
      },
      "execution_count": 98,
      "outputs": []
    },
    {
      "cell_type": "code",
      "source": [
        "history = model.fit(x_train, y_train,\n",
        "                    batch_size=batch_size,\n",
        "                    epochs=epochs,\n",
        "                    verbose=1,\n",
        "                    validation_split=0.1)"
      ],
      "metadata": {
        "colab": {
          "base_uri": "https://localhost:8080/"
        },
        "id": "ZYyeo02kiWKQ",
        "outputId": "d76b9ef4-b577-4521-d71f-499fef1cd7a5"
      },
      "execution_count": 99,
      "outputs": [
        {
          "output_type": "stream",
          "name": "stdout",
          "text": [
            "Epoch 1/10\n",
            "258/258 [==============================] - 4s 12ms/step - loss: 2.9919 - accuracy: 0.4771 - val_loss: 1.3815 - val_accuracy: 0.7598\n",
            "Epoch 2/10\n",
            "258/258 [==============================] - 4s 14ms/step - loss: 0.9312 - accuracy: 0.8140 - val_loss: 0.6841 - val_accuracy: 0.8515\n",
            "Epoch 3/10\n",
            "258/258 [==============================] - 4s 14ms/step - loss: 0.5434 - accuracy: 0.8714 - val_loss: 0.5328 - val_accuracy: 0.8712\n",
            "Epoch 4/10\n",
            "258/258 [==============================] - 2s 8ms/step - loss: 0.4001 - accuracy: 0.9029 - val_loss: 0.4687 - val_accuracy: 0.8821\n",
            "Epoch 5/10\n",
            "258/258 [==============================] - 2s 8ms/step - loss: 0.3169 - accuracy: 0.9208 - val_loss: 0.4331 - val_accuracy: 0.8821\n",
            "Epoch 6/10\n",
            "258/258 [==============================] - 3s 12ms/step - loss: 0.2632 - accuracy: 0.9316 - val_loss: 0.4137 - val_accuracy: 0.8865\n",
            "Epoch 7/10\n",
            "258/258 [==============================] - 2s 8ms/step - loss: 0.2289 - accuracy: 0.9404 - val_loss: 0.4104 - val_accuracy: 0.8821\n",
            "Epoch 8/10\n",
            "258/258 [==============================] - 2s 8ms/step - loss: 0.1942 - accuracy: 0.9506 - val_loss: 0.3986 - val_accuracy: 0.8832\n",
            "Epoch 9/10\n",
            "258/258 [==============================] - 2s 8ms/step - loss: 0.1750 - accuracy: 0.9537 - val_loss: 0.3948 - val_accuracy: 0.8865\n",
            "Epoch 10/10\n",
            "258/258 [==============================] - 2s 8ms/step - loss: 0.1583 - accuracy: 0.9597 - val_loss: 0.3989 - val_accuracy: 0.8865\n"
          ]
        }
      ]
    },
    {
      "cell_type": "code",
      "source": [
        "score = model.evaluate(x_test, y_test,batch_size=batch_size, verbose=1)\n",
        "print('Test accuracy:', score[1])"
      ],
      "metadata": {
        "colab": {
          "base_uri": "https://localhost:8080/"
        },
        "id": "-cUjLbA3ia0g",
        "outputId": "07aabbdf-8688-4350-e6f8-eb66c45c071d"
      },
      "execution_count": 100,
      "outputs": [
        {
          "output_type": "stream",
          "name": "stdout",
          "text": [
            "123/123 [==============================] - 1s 4ms/step - loss: 0.4200 - accuracy: 0.8744\n",
            "Test accuracy: 0.8743948936462402\n"
          ]
        }
      ]
    }
  ]
}